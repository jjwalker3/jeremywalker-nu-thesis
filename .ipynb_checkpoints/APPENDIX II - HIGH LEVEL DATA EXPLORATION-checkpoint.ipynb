{
 "cells": [
  {
   "cell_type": "code",
   "execution_count": 1,
   "metadata": {},
   "outputs": [],
   "source": [
    "import numpy as np\n",
    "import pandas as pd\n",
    "import re\n",
    "import time\n",
    "import matplotlib.pyplot as plt\n",
    "import seaborn as sns\n",
    "from sklearn.feature_extraction.text import CountVectorizer,TfidfTransformer, TfidfVectorizer\n",
    "%matplotlib inline"
   ]
  },
  {
   "cell_type": "code",
   "execution_count": 2,
   "metadata": {},
   "outputs": [],
   "source": [
    "full = pd.read_json(\"full.json\")\n",
    "full['Start Date'] =  pd.to_datetime(full['Start Date'],unit='ms')\n",
    "full['End Date'] =  pd.to_datetime(full['End Date'],unit='ms')\n",
    "originalRaw = pd.read_csv(\"raw_report.csv\")"
   ]
  },
  {
   "cell_type": "code",
   "execution_count": 3,
   "metadata": {},
   "outputs": [
    {
     "data": {
      "text/plain": [
       "(15690, 25)"
      ]
     },
     "execution_count": 3,
     "metadata": {},
     "output_type": "execute_result"
    }
   ],
   "source": [
    "originalRaw.shape"
   ]
  },
  {
   "cell_type": "code",
   "execution_count": 4,
   "metadata": {},
   "outputs": [
    {
     "data": {
      "text/plain": [
       "15690"
      ]
     },
     "execution_count": 4,
     "metadata": {},
     "output_type": "execute_result"
    }
   ],
   "source": [
    "len(originalRaw)"
   ]
  },
  {
   "cell_type": "code",
   "execution_count": 5,
   "metadata": {},
   "outputs": [
    {
     "data": {
      "text/plain": [
       "(14897, 34)"
      ]
     },
     "execution_count": 5,
     "metadata": {},
     "output_type": "execute_result"
    }
   ],
   "source": [
    "full.shape"
   ]
  },
  {
   "cell_type": "code",
   "execution_count": 6,
   "metadata": {},
   "outputs": [
    {
     "data": {
      "text/plain": [
       "(14604, 34)"
      ]
     },
     "execution_count": 6,
     "metadata": {},
     "output_type": "execute_result"
    }
   ],
   "source": [
    "full[full['segCode'] == 0].shape"
   ]
  },
  {
   "cell_type": "code",
   "execution_count": 7,
   "metadata": {},
   "outputs": [],
   "source": [
    "full = full[full['segCode'] == 0].copy()"
   ]
  },
  {
   "cell_type": "code",
   "execution_count": 8,
   "metadata": {},
   "outputs": [
    {
     "data": {
      "text/plain": [
       "(11915, 34)"
      ]
     },
     "execution_count": 8,
     "metadata": {},
     "output_type": "execute_result"
    }
   ],
   "source": [
    "full[full['READ']!='Unknown'].shape"
   ]
  },
  {
   "cell_type": "code",
   "execution_count": 9,
   "metadata": {},
   "outputs": [
    {
     "data": {
      "text/plain": [
       "Index(['Id', 'Start Date', 'Start Time', 'End Date', 'End Time', 'Duration',\n",
       "       'Entered by', 'Notes', 'Question', 'Answer', 'Notes FULL',\n",
       "       'Library Dept./Branch/Service', 'Where were you?', 'Who answers',\n",
       "       'Who Asked?', 'How many in the group?', 'Question Format',\n",
       "       'Question Type', 'Referred to?', 'READ', 'Time Spent',\n",
       "       'Class/Discipline', 'tags', 'Room reservation', 'Reported to:',\n",
       "       'READ_1_vs_2', 'READ_2_vs_3', 'Transcript', 'TransLength', 'segTrans',\n",
       "       'segCode', 'PatronTextString', 'StaffTextString', 'AllTextString'],\n",
       "      dtype='object')"
      ]
     },
     "execution_count": 9,
     "metadata": {},
     "output_type": "execute_result"
    }
   ],
   "source": [
    "full.columns"
   ]
  },
  {
   "cell_type": "code",
   "execution_count": 10,
   "metadata": {},
   "outputs": [],
   "source": [
    "lengths = []\n",
    "for i in full.loc[full['READ']!='Unknown','PatronTextString'].str.split():\n",
    "    lengths.append(len(i))"
   ]
  },
  {
   "cell_type": "code",
   "execution_count": 11,
   "metadata": {},
   "outputs": [
    {
     "data": {
      "text/plain": [
       "73.77675199328577"
      ]
     },
     "execution_count": 11,
     "metadata": {},
     "output_type": "execute_result"
    }
   ],
   "source": [
    "np.mean(lengths)"
   ]
  },
  {
   "cell_type": "code",
   "execution_count": 12,
   "metadata": {},
   "outputs": [
    {
     "name": "stdout",
     "output_type": "stream",
     "text": [
      "9:00 6476885001398391168263262 I'm looking for a 19th century article about women fashion in France but cant seem to find anything? Do you have any good links? 9:00 me hello 9:01 me Hmm...I have a few ideas! 9:01 me Are you looking for articles that are about 19th centruy french fashion OR articles written in the 19th century about french fashion? (the former will definitely be easier I think) 9:02 6476885001398391168263262 I am looking for scholarly articles about 19th century French fashon 9:02 6476885001398391168263262 Mainly women 9:04 me Ok, let me see what I can find! 9:04 6476885001398391168263262 Thanks you rock! 9:04 me I am going to start with our Search It tool. Also, we have some fashion databases as well http://apps.lib.k-state.edu/databases/category/human-ecology/apparel-textiles/ 9:04 me Have you had a chance to try either of those sources? 9:05 6476885001398391168263262 Yeah I have tried.. I am no sure if im too specific or not specific enough. 9:06 me Gotcha. Also, do they have to be scholarly articles? Would library books work as well? 9:06 6476885001398391168263262 Yes, I believe so. 9:07 me I found one promising book in Search It \"Accessories to modernity : fashion and the feminine in nineteenth-century France\" 9:07 6476885001398391168263262 My assignment details just say two scholarly sources. 9:09 me Ok, I certianly think many of the books in the library qualify as \"scholarly\" Obviously some will not (ex. Batman comics), but I think you should be able to identify if a book is a scholarly source (they will have lots of references, detailed info, neutral tone, etc...) 9:10 me Here is a quick video showing how I found some books.... 9:10 me http://screencast.com/t/s8gDSF1fm5C 9:12 6476885001398391168263262 Okay, Thank you so much! 9:12 me In that video I highlighted the call number for the book 9:12 me Call numbers are ordered by subject, so if you can find that book, you should be able to find many other relevant books right next to it 9:12 me Also, for research articles, I think the \"Berg Fashion Library\" databases may be another good place to search 9:13 6476885001398391168263262 Thank you, I appreciate it. 9:14 me Does that give you a good starting point? 9:16 6476885001398391168263262 Yes, Thanks! 9:17 me Great! Please don't hesitate to come back if you have more questions 9:26 6476885001398391168263262 Awesome thank you!\n"
     ]
    }
   ],
   "source": [
    "for i in full.loc[full['Id'] == 4855433,'Transcript']:\n",
    "    print(i)"
   ]
  },
  {
   "cell_type": "code",
   "execution_count": 13,
   "metadata": {
    "scrolled": false
   },
   "outputs": [
    {
     "name": "stdout",
     "output_type": "stream",
     "text": [
      "['9:00', 'patron', \"I'm looking for a 19th century article about women fashion in France but cant seem to find anything? Do you have any good links?\"]\n",
      "['9:00', 'staff', 'hello']\n",
      "['9:01', 'staff', 'Hmm...I have a few ideas!']\n",
      "['9:01', 'staff', 'Are you looking for articles that are about 19th centruy french fashion OR articles written in the 19th century about french fashion? (the former will definitely be easier I think)']\n",
      "['9:02', 'patron', 'I am looking for scholarly articles about 19th century French fashon']\n",
      "['9:02', 'patron', 'Mainly women']\n",
      "['9:04', 'staff', 'Ok, let me see what I can find!']\n",
      "['9:04', 'patron', 'Thanks you rock!']\n",
      "['9:04', 'staff', 'I am going to start with our Search It tool. Also, we have some fashion databases as well http://apps.lib.k-state.edu/databases/category/human-ecology/apparel-textiles/']\n",
      "['9:04', 'staff', 'Have you had a chance to try either of those sources?']\n",
      "['9:05', 'patron', 'Yeah I have tried.. I am no sure if im too specific or not specific enough.']\n",
      "['9:06', 'staff', 'Gotcha. Also, do they have to be scholarly articles? Would library books work as well?']\n",
      "['9:06', 'patron', 'Yes, I believe so.']\n",
      "['9:07', 'staff', 'I found one promising book in Search It \"Accessories to modernity : fashion and the feminine in nineteenth-century France\"']\n",
      "['9:07', 'patron', 'My assignment details just say two scholarly sources.']\n",
      "['9:09', 'staff', 'Ok, I certianly think many of the books in the library qualify as \"scholarly\" Obviously some will not (ex. Batman comics), but I think you should be able to identify if a book is a scholarly source (they will have lots of references, detailed info, neutral tone, etc...)']\n",
      "['9:10', 'staff', 'Here is a quick video showing how I found some books....']\n",
      "['9:10', 'staff', 'http://screencast.com/t/s8gDSF1fm5C']\n",
      "['9:12', 'patron', 'Okay, Thank you so much!']\n",
      "['9:12', 'staff', 'In that video I highlighted the call number for the book']\n",
      "['9:12', 'staff', 'Call numbers are ordered by subject, so if you can find that book, you should be able to find many other relevant books right next to it']\n",
      "['9:12', 'staff', 'Also, for research articles, I think the \"Berg Fashion Library\" databases may be another good place to search']\n",
      "['9:13', 'patron', 'Thank you, I appreciate it.']\n",
      "['9:14', 'staff', 'Does that give you a good starting point?']\n",
      "['9:16', 'patron', 'Yes, Thanks!']\n",
      "['9:17', 'staff', \"Great! Please don't hesitate to come back if you have more questions\"]\n",
      "['9:26', 'patron', 'Awesome thank you!']\n"
     ]
    }
   ],
   "source": [
    "for i in full.loc[full['Id'] == 4855433,'segTrans']:\n",
    "    for k in i:\n",
    "        print(k)"
   ]
  },
  {
   "cell_type": "code",
   "execution_count": 14,
   "metadata": {},
   "outputs": [
    {
     "name": "stdout",
     "output_type": "stream",
     "text": [
      "I'm looking for a 19th century article about women fashion in France but cant seem to find anything? Do you have any good links? I am looking for scholarly articles about 19th century French fashon Mainly women Thanks you rock! Yeah I have tried.. I am no sure if im too specific or not specific enough. Yes, I believe so. My assignment details just say two scholarly sources. Okay, Thank you so much! Thank you, I appreciate it. Yes, Thanks! Awesome thank you! \n"
     ]
    }
   ],
   "source": [
    "for i in full.loc[full['Id'] == 4855433,'PatronTextString']:\n",
    "    print(i)"
   ]
  },
  {
   "cell_type": "code",
   "execution_count": 15,
   "metadata": {},
   "outputs": [
    {
     "data": {
      "text/plain": [
       "2          5430\n",
       "1          3355\n",
       "Unknown    2689\n",
       "3          2532\n",
       "4           492\n",
       "5            89\n",
       "6            17\n",
       "Name: READ, dtype: int64"
      ]
     },
     "execution_count": 15,
     "metadata": {},
     "output_type": "execute_result"
    }
   ],
   "source": [
    "full['READ'].value_counts()"
   ]
  },
  {
   "cell_type": "code",
   "execution_count": 16,
   "metadata": {},
   "outputs": [
    {
     "name": "stdout",
     "output_type": "stream",
     "text": [
      "Reference\n",
      "ResearchConsultation\n",
      "Technical\n",
      "Misc\n",
      "Directional\n",
      "Reserves\n",
      "Circulation\n",
      "Building\n",
      "Unknown\n",
      "KREx\n",
      "NewPrairiePress\n",
      "KAPI\n",
      "Copyright\n"
     ]
    }
   ],
   "source": [
    "for i in full['Question Type'].unique():\n",
    "    print(i)"
   ]
  },
  {
   "cell_type": "code",
   "execution_count": 17,
   "metadata": {},
   "outputs": [
    {
     "data": {
      "text/plain": [
       "(11915, 34)"
      ]
     },
     "execution_count": 17,
     "metadata": {},
     "output_type": "execute_result"
    }
   ],
   "source": [
    "fullRead = full[full['READ']!='Unknown']\n",
    "fullRead.shape"
   ]
  },
  {
   "cell_type": "code",
   "execution_count": 18,
   "metadata": {},
   "outputs": [
    {
     "data": {
      "text/plain": [
       "2          5430\n",
       "1          3355\n",
       "Unknown    2689\n",
       "3          2532\n",
       "4           492\n",
       "5            89\n",
       "6            17\n",
       "Name: READ, dtype: int64"
      ]
     },
     "execution_count": 18,
     "metadata": {},
     "output_type": "execute_result"
    }
   ],
   "source": [
    "full['READ'].value_counts()"
   ]
  },
  {
   "cell_type": "code",
   "execution_count": 19,
   "metadata": {},
   "outputs": [],
   "source": [
    "sns.set(font_scale=1.25)"
   ]
  },
  {
   "cell_type": "code",
   "execution_count": 20,
   "metadata": {},
   "outputs": [
    {
     "data": {
      "image/png": "[encoded data removed]",
      "text/plain": [
       "<Figure size 864x576 with 1 Axes>"
      ]
     },
     "metadata": {},
     "output_type": "display_data"
    }
   ],
   "source": [
    "plt.figure(figsize=(12,8))\n",
    "ax = sns.countplot(full['READ'],\n",
    "                   order=['1','2','3','4','5','6','Unknown',],\n",
    "                   palette='colorblind')\n",
    "ax.set_title(\"Raw Count of VRS Interactions by READ Scale Rating\")\n",
    "ax.set(xlabel='READ Scale Rating', ylabel='Transcript Counts')\n",
    "ax.spines['bottom'].set_color('0.25')\n",
    "ax.spines['top'].set_color('0.25')\n",
    "ax.spines['right'].set_color('0.25')\n",
    "ax.spines['left'].set_color('0.25')\n",
    "plt.savefig(\"plots/READCountPlot.png\")"
   ]
  },
  {
   "cell_type": "code",
   "execution_count": 21,
   "metadata": {},
   "outputs": [
    {
     "data": {
      "image/png": "[encoded data removed]",
      "text/plain": [
       "<Figure size 864x576 with 1 Axes>"
      ]
     },
     "metadata": {},
     "output_type": "display_data"
    }
   ],
   "source": [
    "plt.figure(figsize=(12,8))\n",
    "ax = sns.countplot(full['Question Type'],\n",
    "                   palette='colorblind')\n",
    "ax.set_title(\"Raw Count of VRS Interactions by Question Type\")\n",
    "ax.set(xlabel='Question Type', ylabel='Transcript Counts')\n",
    "plt.xticks(rotation=-90)\n",
    "ax.spines['bottom'].set_color('0.25')\n",
    "ax.spines['top'].set_color('0.25')\n",
    "ax.spines['right'].set_color('0.25')\n",
    "ax.spines['left'].set_color('0.25')\n",
    "plt.savefig(\"plots/QuestionTypeCountPlot.png\")"
   ]
  },
  {
   "cell_type": "code",
   "execution_count": 22,
   "metadata": {},
   "outputs": [
    {
     "data": {
      "text/plain": [
       "Reference               9770\n",
       "Technical               1318\n",
       "Misc                    1246\n",
       "Building                 959\n",
       "Circulation              659\n",
       "Directional              308\n",
       "Reserves                 155\n",
       "ResearchConsultation      80\n",
       "Unknown                   63\n",
       "KREx                      16\n",
       "Copyright                 14\n",
       "NewPrairiePress            9\n",
       "KAPI                       7\n",
       "Name: Question Type, dtype: int64"
      ]
     },
     "execution_count": 22,
     "metadata": {},
     "output_type": "execute_result"
    }
   ],
   "source": [
    "full['Question Type'].value_counts()"
   ]
  },
  {
   "cell_type": "code",
   "execution_count": 23,
   "metadata": {},
   "outputs": [
    {
     "data": {
      "text/html": [
       "<div>\n",
       "<style scoped>\n",
       "    .dataframe tbody tr th:only-of-type {\n",
       "        vertical-align: middle;\n",
       "    }\n",
       "\n",
       "    .dataframe tbody tr th {\n",
       "        vertical-align: top;\n",
       "    }\n",
       "\n",
       "    .dataframe thead tr th {\n",
       "        text-align: left;\n",
       "    }\n",
       "\n",
       "    .dataframe thead tr:last-of-type th {\n",
       "        text-align: right;\n",
       "    }\n",
       "</style>\n",
       "<table border=\"1\" class=\"dataframe\">\n",
       "  <thead>\n",
       "    <tr>\n",
       "      <th></th>\n",
       "      <th colspan=\"7\" halign=\"left\">Id</th>\n",
       "    </tr>\n",
       "    <tr>\n",
       "      <th>READ</th>\n",
       "      <th>1</th>\n",
       "      <th>2</th>\n",
       "      <th>3</th>\n",
       "      <th>4</th>\n",
       "      <th>5</th>\n",
       "      <th>6</th>\n",
       "      <th>Unknown</th>\n",
       "    </tr>\n",
       "    <tr>\n",
       "      <th>Question Type</th>\n",
       "      <th></th>\n",
       "      <th></th>\n",
       "      <th></th>\n",
       "      <th></th>\n",
       "      <th></th>\n",
       "      <th></th>\n",
       "      <th></th>\n",
       "    </tr>\n",
       "  </thead>\n",
       "  <tbody>\n",
       "    <tr>\n",
       "      <th>Building</th>\n",
       "      <td>507.0</td>\n",
       "      <td>251.0</td>\n",
       "      <td>19.0</td>\n",
       "      <td>2.0</td>\n",
       "      <td>0.0</td>\n",
       "      <td>0.0</td>\n",
       "      <td>180.0</td>\n",
       "    </tr>\n",
       "    <tr>\n",
       "      <th>Circulation</th>\n",
       "      <td>208.0</td>\n",
       "      <td>286.0</td>\n",
       "      <td>60.0</td>\n",
       "      <td>6.0</td>\n",
       "      <td>1.0</td>\n",
       "      <td>0.0</td>\n",
       "      <td>98.0</td>\n",
       "    </tr>\n",
       "    <tr>\n",
       "      <th>Copyright</th>\n",
       "      <td>0.0</td>\n",
       "      <td>8.0</td>\n",
       "      <td>1.0</td>\n",
       "      <td>1.0</td>\n",
       "      <td>0.0</td>\n",
       "      <td>0.0</td>\n",
       "      <td>4.0</td>\n",
       "    </tr>\n",
       "    <tr>\n",
       "      <th>Directional</th>\n",
       "      <td>151.0</td>\n",
       "      <td>74.0</td>\n",
       "      <td>10.0</td>\n",
       "      <td>0.0</td>\n",
       "      <td>0.0</td>\n",
       "      <td>0.0</td>\n",
       "      <td>73.0</td>\n",
       "    </tr>\n",
       "    <tr>\n",
       "      <th>KAPI</th>\n",
       "      <td>1.0</td>\n",
       "      <td>3.0</td>\n",
       "      <td>2.0</td>\n",
       "      <td>0.0</td>\n",
       "      <td>0.0</td>\n",
       "      <td>0.0</td>\n",
       "      <td>1.0</td>\n",
       "    </tr>\n",
       "    <tr>\n",
       "      <th>KREx</th>\n",
       "      <td>4.0</td>\n",
       "      <td>8.0</td>\n",
       "      <td>2.0</td>\n",
       "      <td>0.0</td>\n",
       "      <td>0.0</td>\n",
       "      <td>0.0</td>\n",
       "      <td>2.0</td>\n",
       "    </tr>\n",
       "    <tr>\n",
       "      <th>Misc</th>\n",
       "      <td>606.0</td>\n",
       "      <td>419.0</td>\n",
       "      <td>54.0</td>\n",
       "      <td>8.0</td>\n",
       "      <td>1.0</td>\n",
       "      <td>1.0</td>\n",
       "      <td>157.0</td>\n",
       "    </tr>\n",
       "    <tr>\n",
       "      <th>NewPrairiePress</th>\n",
       "      <td>2.0</td>\n",
       "      <td>4.0</td>\n",
       "      <td>1.0</td>\n",
       "      <td>1.0</td>\n",
       "      <td>0.0</td>\n",
       "      <td>0.0</td>\n",
       "      <td>1.0</td>\n",
       "    </tr>\n",
       "    <tr>\n",
       "      <th>Reference</th>\n",
       "      <td>1399.0</td>\n",
       "      <td>3753.0</td>\n",
       "      <td>2223.0</td>\n",
       "      <td>441.0</td>\n",
       "      <td>79.0</td>\n",
       "      <td>15.0</td>\n",
       "      <td>1860.0</td>\n",
       "    </tr>\n",
       "    <tr>\n",
       "      <th>ResearchConsultation</th>\n",
       "      <td>8.0</td>\n",
       "      <td>18.0</td>\n",
       "      <td>21.0</td>\n",
       "      <td>5.0</td>\n",
       "      <td>2.0</td>\n",
       "      <td>1.0</td>\n",
       "      <td>25.0</td>\n",
       "    </tr>\n",
       "    <tr>\n",
       "      <th>Reserves</th>\n",
       "      <td>36.0</td>\n",
       "      <td>69.0</td>\n",
       "      <td>14.0</td>\n",
       "      <td>1.0</td>\n",
       "      <td>0.0</td>\n",
       "      <td>0.0</td>\n",
       "      <td>35.0</td>\n",
       "    </tr>\n",
       "    <tr>\n",
       "      <th>Technical</th>\n",
       "      <td>413.0</td>\n",
       "      <td>518.0</td>\n",
       "      <td>122.0</td>\n",
       "      <td>27.0</td>\n",
       "      <td>6.0</td>\n",
       "      <td>0.0</td>\n",
       "      <td>232.0</td>\n",
       "    </tr>\n",
       "    <tr>\n",
       "      <th>Unknown</th>\n",
       "      <td>20.0</td>\n",
       "      <td>19.0</td>\n",
       "      <td>3.0</td>\n",
       "      <td>0.0</td>\n",
       "      <td>0.0</td>\n",
       "      <td>0.0</td>\n",
       "      <td>21.0</td>\n",
       "    </tr>\n",
       "  </tbody>\n",
       "</table>\n",
       "</div>"
      ],
      "text/plain": [
       "                          Id                                           \n",
       "READ                       1       2       3      4     5     6 Unknown\n",
       "Question Type                                                          \n",
       "Building               507.0   251.0    19.0    2.0   0.0   0.0   180.0\n",
       "Circulation            208.0   286.0    60.0    6.0   1.0   0.0    98.0\n",
       "Copyright                0.0     8.0     1.0    1.0   0.0   0.0     4.0\n",
       "Directional            151.0    74.0    10.0    0.0   0.0   0.0    73.0\n",
       "KAPI                     1.0     3.0     2.0    0.0   0.0   0.0     1.0\n",
       "KREx                     4.0     8.0     2.0    0.0   0.0   0.0     2.0\n",
       "Misc                   606.0   419.0    54.0    8.0   1.0   1.0   157.0\n",
       "NewPrairiePress          2.0     4.0     1.0    1.0   0.0   0.0     1.0\n",
       "Reference             1399.0  3753.0  2223.0  441.0  79.0  15.0  1860.0\n",
       "ResearchConsultation     8.0    18.0    21.0    5.0   2.0   1.0    25.0\n",
       "Reserves                36.0    69.0    14.0    1.0   0.0   0.0    35.0\n",
       "Technical              413.0   518.0   122.0   27.0   6.0   0.0   232.0\n",
       "Unknown                 20.0    19.0     3.0    0.0   0.0   0.0    21.0"
      ]
     },
     "execution_count": 23,
     "metadata": {},
     "output_type": "execute_result"
    }
   ],
   "source": [
    "full.loc[:,['Id','READ','Question Type']].groupby(by=['READ','Question Type']).count().unstack(level=-2).fillna(value=0)"
   ]
  },
  {
   "cell_type": "code",
   "execution_count": 24,
   "metadata": {
    "scrolled": false
   },
   "outputs": [
    {
     "data": {
      "image/png": "[encoded data removed]",
      "text/plain": [
       "<Figure size 576x432 with 1 Axes>"
      ]
     },
     "metadata": {},
     "output_type": "display_data"
    },
    {
     "data": {
      "image/png": "[encoded data removed]",
      "text/plain": [
       "<Figure size 576x432 with 1 Axes>"
      ]
     },
     "metadata": {},
     "output_type": "display_data"
    },
    {
     "data": {
      "image/png": "[encoded data removed]",
      "text/plain": [
       "<Figure size 576x432 with 1 Axes>"
      ]
     },
     "metadata": {},
     "output_type": "display_data"
    },
    {
     "data": {
      "image/png": "[encoded data removed]",
      "text/plain": [
       "<Figure size 576x432 with 1 Axes>"
      ]
     },
     "metadata": {},
     "output_type": "display_data"
    },
    {
     "data": {
      "image/png": "[encoded data removed]",
      "text/plain": [
       "<Figure size 576x432 with 1 Axes>"
      ]
     },
     "metadata": {},
     "output_type": "display_data"
    },
    {
     "data": {
      "image/png": "[encoded data removed]",
      "text/plain": [
       "<Figure size 576x432 with 1 Axes>"
      ]
     },
     "metadata": {},
     "output_type": "display_data"
    },
    {
     "data": {
      "image/png": "[encoded data removed]",
      "text/plain": [
       "<Figure size 576x432 with 1 Axes>"
      ]
     },
     "metadata": {},
     "output_type": "display_data"
    },
    {
     "data": {
      "image/png": "[encoded data removed]",
      "text/plain": [
       "<Figure size 576x432 with 1 Axes>"
      ]
     },
     "metadata": {},
     "output_type": "display_data"
    },
    {
     "data": {
      "image/png": "[encoded data removed]",
      "text/plain": [
       "<Figure size 576x432 with 1 Axes>"
      ]
     },
     "metadata": {},
     "output_type": "display_data"
    },
    {
     "data": {
      "image/png": "[encoded data removed]",
      "text/plain": [
       "<Figure size 576x432 with 1 Axes>"
      ]
     },
     "metadata": {},
     "output_type": "display_data"
    },
    {
     "data": {
      "image/png": "[encoded data removed]",
      "text/plain": [
       "<Figure size 576x432 with 1 Axes>"
      ]
     },
     "metadata": {},
     "output_type": "display_data"
    },
    {
     "data": {
      "image/png": "[encoded data removed]",
      "text/plain": [
       "<Figure size 576x432 with 1 Axes>"
      ]
     },
     "metadata": {},
     "output_type": "display_data"
    },
    {
     "data": {
      "image/png": "[encoded data removed]",
      "text/plain": [
       "<Figure size 576x432 with 1 Axes>"
      ]
     },
     "metadata": {},
     "output_type": "display_data"
    }
   ],
   "source": [
    "for i in full['Question Type'].unique():\n",
    "    plt.figure(figsize=(8,6))\n",
    "    ax = sns.countplot(full.loc[full['Question Type']==i,'READ'],\n",
    "                       order=['1','2','3','4','5','6','Unknown',],\n",
    "                       palette='deep')\n",
    "    ax.set_title(\"\\\"{}\\\" Questions\".format(i))\n",
    "    ax.set(xlabel='READ Scale Rating', ylabel='Transcript Counts')\n",
    "    ax.spines['bottom'].set_color('0.25')\n",
    "    ax.spines['top'].set_color('0.25')\n",
    "    ax.spines['right'].set_color('0.25')\n",
    "    ax.spines['left'].set_color('0.25')\n",
    "    plt.savefig(\"plots/READcountplot_{}.png\".format(i))"
   ]
  },
  {
   "cell_type": "code",
   "execution_count": null,
   "metadata": {},
   "outputs": [],
   "source": []
  },
  {
   "cell_type": "code",
   "execution_count": 25,
   "metadata": {},
   "outputs": [],
   "source": [
    "corpus = full.loc[:,'PatronTextString']"
   ]
  },
  {
   "cell_type": "code",
   "execution_count": 26,
   "metadata": {},
   "outputs": [],
   "source": [
    "patronStringLength = []\n",
    "\n",
    "for i in corpus.str.split():\n",
    "    patronStringLength.append(len(i))\n",
    "    \n",
    "patronStringLength = pd.Series(patronStringLength,index=full.index)"
   ]
  },
  {
   "cell_type": "code",
   "execution_count": 27,
   "metadata": {},
   "outputs": [
    {
     "data": {
      "text/plain": [
       "count    14604.000000\n",
       "mean        72.695631\n",
       "std         65.841815\n",
       "min          1.000000\n",
       "25%         32.000000\n",
       "50%         54.000000\n",
       "75%         91.000000\n",
       "max       1061.000000\n",
       "dtype: float64"
      ]
     },
     "execution_count": 27,
     "metadata": {},
     "output_type": "execute_result"
    }
   ],
   "source": [
    "patronStringLength.describe()"
   ]
  },
  {
   "cell_type": "code",
   "execution_count": 28,
   "metadata": {},
   "outputs": [
    {
     "data": {
      "image/png": "[encoded data removed]",
      "text/plain": [
       "<Figure size 576x432 with 1 Axes>"
      ]
     },
     "metadata": {},
     "output_type": "display_data"
    }
   ],
   "source": [
    "plt.figure(figsize=(8,6))\n",
    "ax = sns.distplot(patronStringLength)\n",
    "ax.set_title(\"Distribution of PatronText Length\")\n",
    "ax.set(xlabel='Number of Space-Delimited Tokens', ylabel='Distribution Density')\n",
    "ax.spines['bottom'].set_color('0.25')\n",
    "ax.spines['top'].set_color('0.25')\n",
    "ax.spines['right'].set_color('0.25')\n",
    "ax.spines['left'].set_color('0.25')\n",
    "plt.savefig(\"plots/PatronTextLength.png\")"
   ]
  },
  {
   "cell_type": "code",
   "execution_count": 29,
   "metadata": {
    "scrolled": false
   },
   "outputs": [
    {
     "name": "stdout",
     "output_type": "stream",
     "text": [
      "Short Transcript Example #1\n",
      "['1:35', 'patron']\n",
      "['1:35', 'staff', 'Hi']\n",
      "['1:35', 'patron', 'Hey']\n",
      "['1:35', 'staff', \"I'd be happy to help you with this. One moment.\"]\n",
      "['1:38', 'staff', \"I was also only able to find previews, one at Amazon and one at Google books. We don't have it here at the library, so your best bet will be to interlibrary loan it.\"]\n",
      "['1:38', 'staff', 'How soon do you need it?']\n",
      "['1:39', 'patron', 'Within 2 weeks']\n",
      "['1:39', 'staff', \"That shouldn't be a problem. Have you used interlibrary loan before?\"]\n",
      "\n",
      "Short Transcript Example #2\n",
      "['7:52', 'patron']\n",
      "['7:52', 'staff', 'Hello']\n",
      "['7:53', 'staff', \"Generally speaking, we can't do that unless you designate them as a proxy.\"]\n",
      "['7:54', 'staff', 'They could check out something under their account and lend it to you, but they would be responsible for the book.']\n",
      "['7:54', 'patron', 'okay thank you!']\n",
      "['7:54', 'staff', 'No problem!']\n",
      "['7:54', 'patron', '']\n",
      "\n",
      "Short Transcript Example #3\n",
      "['12:22', 'patron', 'P96.742.T89 2010']\n",
      "['12:22', 'staff', 'Hi!']\n",
      "['12:22', 'staff', 'Are you wanted to know where this is located?']\n",
      "\n",
      "Short Transcript Example #4\n",
      "['2:10', 'patron', 'Hi']\n",
      "['2:10', 'staff', 'hi']\n",
      "['2:10', 'patron', 'Hi']\n",
      "['2:12', 'patron', '']\n",
      "['2:15', 'patron', '']\n",
      "\n",
      "Short Transcript Example #5\n",
      "['6:22', 'patron', 'do you have condoms?']\n",
      "['6:22', 'staff', \"Hi! We sure don't.\"]\n",
      "['6:23', 'patron', '']\n",
      "\n",
      "Short Transcript Example #6\n",
      "['8:05', 'patron', '.']\n",
      "['8:05', 'staff', 'Hi.']\n",
      "['8:05', 'staff', 'How can I help you?']\n",
      "['8:05', 'patron', 'who is this']\n",
      "['8:05', 'staff', 'This is Heather. May I help you with something?']\n",
      "['8:08', 'staff', 'On Chat with a Librarian, you can get help with library or research questions. Can I help you with anything?']\n",
      "\n",
      "Short Transcript Example #7\n",
      "['1:19', 'patron']\n",
      "['1:19', 'staff', 'Hi, there. How can we help you?']\n",
      "['1:19', 'patron', 'thank you']\n",
      "['1:20', 'staff', 'You are welcome, cheers']\n",
      "['1:20', 'patron', '']\n",
      "\n",
      "Short Transcript Example #8\n",
      "['2:13', 'patron', 'eyyyyyyyy']\n",
      "['2:13', 'staff', 'hello']\n",
      "['2:14', 'patron', 'thank ya kindly']\n",
      "['2:15', 'staff', \"you're welcome?\"]\n",
      "\n",
      "Short Transcript Example #9\n",
      "['2:53', 'patron', 'Gracias']\n",
      "['2:53', 'staff', 'hello']\n",
      "['2:54', 'staff', 'do you have a question?']\n",
      "['2:59', 'patron', '']\n",
      "\n",
      "Short Transcript Example #10\n",
      "['1:18', 'patron', 'Hello']\n",
      "['1:18', 'staff', 'Hi, how can we help?']\n",
      "['1:19', 'patron']\n",
      "['1:19', 'patron', ':)good bye']\n",
      "['1:20', 'patron', '']\n",
      "\n",
      "Short Transcript Example #11\n",
      "['6:56', 'patron', '']\n",
      "['6:56', 'patron', '']\n",
      "['6:57', 'patron', '']\n",
      "['6:57', 'staff', \"Hi, we'll be right with you...\"]\n",
      "['6:57', 'staff', 'Hello, let me look for you']\n",
      "['6:57', 'staff', 'I will walk you through it']\n",
      "['6:57', 'patron', 'Thanks']\n",
      "['7:00', 'staff', 'Ok, I went to the libraries home page, and then in the box where it says \"Search It\" click on the purple colored one that says \"Search It\" at the bottom. From there it will pull up our search it catalog and then you will want to click on advanced search']\n",
      "['7:00', 'staff', 'from there you can type in key words or phrases such as \"self esteem\" in the first box, and then social media in the second box.']\n",
      "['7:02', 'staff', 'There are the drop down boxes that say \"Any\" you can chose which one you want them to be in. I chose \"in subject\\' that way it is narrowed down to what you are wanting.']\n",
      "['7:02', 'staff', 'Is this clear, or do you need me to go back a few steps?']\n",
      "\n",
      "Short Transcript Example #12\n",
      "['11:35', 'patron', 'i need help']\n",
      "['11:35', 'staff', 'hello']\n",
      "['11:36', 'patron', '']\n",
      "\n",
      "Short Transcript Example #13\n",
      "[':30', 'patron', 'Hello,']\n",
      "['3:30', 'staff', 'Hi']\n",
      "['3:30', 'staff', 'What can we do for you? 3:30 +17853201932 Hi! I’d like to reserve a projector. Do I call 785.532.4918 to do 3:30 +17853201932 that?']\n",
      "['3:30', 'staff', \"That would be through the iTAC equipment checkout - I'm not sure if that's the correct number, give me just a moment\"]\n",
      "['3:31', 'staff', \"Yes, that's the number to call 3:31 +17853201932 Thanks so much! Have a great day! Go cats!\"]\n",
      "['3:32', 'staff', 'Thanks, you too!']\n",
      "\n"
     ]
    }
   ],
   "source": [
    "counter = 1\n",
    "\n",
    "for i in patronStringLength[patronStringLength<5].index:\n",
    "    print(\"Short Transcript Example #{}\".format(counter))\n",
    "#     print()\n",
    "    counter+=1\n",
    "    for k in full.loc[i,'segTrans']:\n",
    "        print(k)\n",
    "    print()\n",
    "#     print()\n",
    "#     print(full.loc[i,'Transcript'])\n",
    "#     print()"
   ]
  },
  {
   "cell_type": "code",
   "execution_count": 30,
   "metadata": {},
   "outputs": [],
   "source": [
    "truncatedCorpus = []\n",
    "for i in corpus.str.split(pat=\"\\s\"):\n",
    "    truncatedCorpus.append(\" \".join(i[:20]))"
   ]
  },
  {
   "cell_type": "code",
   "execution_count": 31,
   "metadata": {},
   "outputs": [
    {
     "data": {
      "text/plain": [
       "0        Is \"An Unfinished Life by Robert Diek\" availab...\n",
       "1        Hi I'm confused with Search It I keep getting ...\n",
       "100      I am in the library and consistently having pr...\n",
       "1000     I want to find some chinese database, do we ha...\n",
       "10000    I'm interested in a book that says: In transit...\n",
       "dtype: object"
      ]
     },
     "execution_count": 31,
     "metadata": {},
     "output_type": "execute_result"
    }
   ],
   "source": [
    "truncatedCorpus = pd.Series(truncatedCorpus, index=full.index)\n",
    "truncatedCorpus.head()"
   ]
  },
  {
   "cell_type": "code",
   "execution_count": 32,
   "metadata": {
    "scrolled": false
   },
   "outputs": [
    {
     "name": "stdout",
     "output_type": "stream",
     "text": [
      "i          18756\n",
      "the         9960\n",
      "a           9257\n",
      "to          8504\n",
      "for         5332\n",
      "hi          5075\n",
      "you         5022\n",
      "and         4410\n",
      "is          4314\n",
      "am          4164\n",
      "hello       3838\n",
      "in          3747\n",
      "have        3599\n",
      "of          3576\n",
      "it          3313\n",
      "on          3026\n",
      "can         2996\n",
      "do          2595\n",
      "that        2377\n",
      "book        2302\n",
      "m           2255\n",
      "if          2234\n",
      "find        2223\n",
      "library     2179\n",
      "how         2113\n",
      "there       2099\n",
      "my          2087\n",
      "was         1854\n",
      "looking     1838\n",
      "an          1825\n",
      "dtype: int64\n",
      "\n",
      "count    15347.000000\n",
      "mean        19.222780\n",
      "std        249.354261\n",
      "min          1.000000\n",
      "25%          1.000000\n",
      "50%          1.000000\n",
      "75%          3.000000\n",
      "max      18756.000000\n",
      "dtype: float64\n"
     ]
    }
   ],
   "source": [
    "counter = CountVectorizer(    \n",
    "            token_pattern=r\"(?u)\\b\\w{1,}\\b\",\n",
    ")\n",
    "\n",
    "tfidfer = TfidfTransformer()\n",
    "\n",
    "cdf = counter.fit_transform(truncatedCorpus)\n",
    "cdf = pd.DataFrame(cdf.todense(), index=full.index, columns=counter.get_feature_names())\n",
    "# tdf = tfidfer.fit_transform(cdf)\n",
    "# tdf = pd.DataFrame(tdf.todense(), index=full.index, columns=counter.get_feature_names())\n",
    "\n",
    "countList = cdf.sum().sort_values(ascending=False)\n",
    "print(countList.head(30))\n",
    "print()\n",
    "print(countList.describe())"
   ]
  },
  {
   "cell_type": "code",
   "execution_count": 33,
   "metadata": {
    "scrolled": false
   },
   "outputs": [
    {
     "name": "stdout",
     "output_type": "stream",
     "text": [
      "the          9960\n",
      "for          5332\n",
      "you          5022\n",
      "and          4410\n",
      "hello        3838\n",
      "have         3599\n",
      "can          2996\n",
      "that         2377\n",
      "book         2302\n",
      "find         2223\n",
      "library      2179\n",
      "how          2113\n",
      "there        2099\n",
      "was          1854\n",
      "looking      1838\n",
      "this         1798\n",
      "help         1762\n",
      "article      1651\n",
      "thank        1516\n",
      "but          1483\n",
      "need         1480\n",
      "trying       1394\n",
      "about        1326\n",
      "are          1238\n",
      "from         1210\n",
      "wondering    1185\n",
      "thanks       1176\n",
      "could        1094\n",
      "with         1074\n",
      "research     1069\n",
      "dtype: int64\n",
      "\n",
      "count    14898.000000\n",
      "mean        13.643375\n",
      "std        142.644386\n",
      "min          1.000000\n",
      "25%          1.000000\n",
      "50%          1.000000\n",
      "75%          3.000000\n",
      "max       9960.000000\n",
      "dtype: float64\n"
     ]
    }
   ],
   "source": [
    "counter = CountVectorizer(    \n",
    "            token_pattern=r\"(?u)\\b\\w{3,}\\b\",\n",
    "#     ngram_range=(1,1),\n",
    "#     min_df=int(np.floor(len(corpus.index)/1000)),\n",
    ")\n",
    "\n",
    "tfidfer = TfidfTransformer()\n",
    "\n",
    "cdf = counter.fit_transform(truncatedCorpus)\n",
    "cdf = pd.DataFrame(cdf.todense(), index=full.index, columns=counter.get_feature_names())\n",
    "# tdf = tfidfer.fit_transform(cdf)\n",
    "# tdf = pd.DataFrame(tdf.todense(), index=full.index, columns=counter.get_feature_names())\n",
    "\n",
    "countList = cdf.sum().sort_values(ascending=False)\n",
    "print(countList.head(30))\n",
    "print()\n",
    "print(countList.describe())"
   ]
  },
  {
   "cell_type": "code",
   "execution_count": 34,
   "metadata": {},
   "outputs": [
    {
     "name": "stdout",
     "output_type": "stream",
     "text": [
      "for          5332\n",
      "you          5022\n",
      "and          4410\n",
      "hello        3838\n",
      "have         3599\n",
      "can          2996\n",
      "that         2377\n",
      "book         2302\n",
      "find         2223\n",
      "library      2179\n",
      "how          2113\n",
      "there        2099\n",
      "was          1854\n",
      "looking      1838\n",
      "this         1798\n",
      "help         1762\n",
      "article      1651\n",
      "thank        1516\n",
      "but          1483\n",
      "need         1480\n",
      "trying       1394\n",
      "about        1326\n",
      "are          1238\n",
      "from         1210\n",
      "wondering    1185\n",
      "thanks       1176\n",
      "could        1094\n",
      "with         1074\n",
      "research     1069\n",
      "not          1054\n",
      "dtype: int64\n",
      "\n",
      "count    6208.000000\n",
      "mean       29.698615\n",
      "std       180.042633\n",
      "min         2.000000\n",
      "25%         2.000000\n",
      "50%         4.000000\n",
      "75%        11.000000\n",
      "max      5332.000000\n",
      "dtype: float64\n"
     ]
    }
   ],
   "source": [
    "counter = CountVectorizer(\n",
    "    token_pattern=r\"(?u)\\b\\w{3,}\\b\",\n",
    "    ngram_range=(1,1),\n",
    "    max_df=0.5,\n",
    "    min_df=2\n",
    ")\n",
    "\n",
    "tfidfer = TfidfTransformer()\n",
    "\n",
    "cdf = counter.fit_transform(truncatedCorpus)\n",
    "cdf = pd.DataFrame(cdf.todense(), index=full.index, columns=counter.get_feature_names())\n",
    "# tdf = tfidfer.fit_transform(cdf)\n",
    "# tdf = pd.DataFrame(tdf.todense(), index=full.index, columns=counter.get_feature_names())\n",
    "\n",
    "countList = cdf.sum().sort_values(ascending=False)\n",
    "print(countList.head(30))\n",
    "print()\n",
    "print(countList.describe())"
   ]
  },
  {
   "cell_type": "code",
   "execution_count": 35,
   "metadata": {},
   "outputs": [
    {
     "name": "stdout",
     "output_type": "stream",
     "text": [
      "hello           1.000000\n",
      "thanks          1.000000\n",
      "gracias         1.000000\n",
      "condoms         0.943144\n",
      "kindly          0.929958\n",
      "rft             0.919056\n",
      "abortion        0.917412\n",
      "dad             0.916097\n",
      "awakening       0.895737\n",
      "mintel          0.881443\n",
      "artstor         0.880185\n",
      "restroom        0.877197\n",
      "scholarships    0.876986\n",
      "lib             0.873610\n",
      "jason           0.867091\n",
      "tax             0.866714\n",
      "atm             0.863716\n",
      "arc             0.862351\n",
      "bye             0.861964\n",
      "well            0.855044\n",
      "tarac           0.852934\n",
      "gas             0.851586\n",
      "highlighters    0.851204\n",
      "psycinfo        0.848539\n",
      "who             0.844665\n",
      "mam             0.844004\n",
      "dsm             0.842721\n",
      "floors          0.841936\n",
      "narrow          0.834032\n",
      "thank           0.833659\n",
      "dtype: float64\n",
      "\n",
      "count    6208.000000\n",
      "mean        0.502618\n",
      "std         0.108226\n",
      "min         0.029799\n",
      "25%         0.450606\n",
      "50%         0.492034\n",
      "75%         0.550894\n",
      "max         1.000000\n",
      "dtype: float64\n"
     ]
    }
   ],
   "source": [
    "counter = CountVectorizer(\n",
    "    token_pattern=r\"(?u)\\b\\w{3,}\\b\",\n",
    "    ngram_range=(1,1),\n",
    "    max_df=0.5,\n",
    "    min_df=2\n",
    ")\n",
    "\n",
    "tfidfer = TfidfTransformer()\n",
    "\n",
    "cdf = counter.fit_transform(truncatedCorpus)\n",
    "cdf = pd.DataFrame(cdf.todense(), index=full.index, columns=counter.get_feature_names())\n",
    "tdf = tfidfer.fit_transform(cdf)\n",
    "tdf = pd.DataFrame(tdf.todense(), index=full.index, columns=counter.get_feature_names())\n",
    "\n",
    "countList = tdf.max().sort_values(ascending=False)\n",
    "print(countList.head(30))\n",
    "print()\n",
    "print(countList.describe())"
   ]
  },
  {
   "cell_type": "code",
   "execution_count": 36,
   "metadata": {},
   "outputs": [
    {
     "name": "stdout",
     "output_type": "stream",
     "text": [
      "i am                3919\n",
      "hi i                2581\n",
      "hello i             2302\n",
      "i m                 2168\n",
      "i have              1630\n",
      "looking for         1608\n",
      "i was               1447\n",
      "trying to           1361\n",
      "thank you           1346\n",
      "i need              1247\n",
      "the library         1234\n",
      "have a              1213\n",
      "for a               1140\n",
      "to find             1123\n",
      "in the              1079\n",
      "a book              1045\n",
      "do you              1018\n",
      "am looking           922\n",
      "was wondering        920\n",
      "i am looking         902\n",
      "wondering if         868\n",
      "and i                858\n",
      "i was wondering      856\n",
      "can i                853\n",
      "am looking for       842\n",
      "i am looking for     826\n",
      "hello i am           821\n",
      "i can                794\n",
      "i have a             779\n",
      "on the               777\n",
      "dtype: int64\n",
      "\n",
      "count    59688.000000\n",
      "mean         7.256115\n",
      "std         39.562901\n",
      "min          2.000000\n",
      "25%          2.000000\n",
      "50%          2.000000\n",
      "75%          4.000000\n",
      "max       3919.000000\n",
      "dtype: float64\n"
     ]
    }
   ],
   "source": [
    "counter = CountVectorizer(\n",
    "    token_pattern=r\"(?u)\\b\\w{1,}\\b\",\n",
    "    ngram_range=(2,4),\n",
    "#     max_df=0.5,\n",
    "    min_df=2\n",
    ")\n",
    "\n",
    "tfidfer = TfidfTransformer()\n",
    "\n",
    "cdf = counter.fit_transform(truncatedCorpus)\n",
    "cdf = pd.DataFrame(cdf.todense(), index=full.index, columns=counter.get_feature_names())\n",
    "# tdf = tfidfer.fit_transform(cdf)\n",
    "# tdf = pd.DataFrame(tdf.todense(), index=full.index, columns=counter.get_feature_names())\n",
    "\n",
    "countList = cdf.sum().sort_values(ascending=False)\n",
    "print(countList.head(30))\n",
    "print()\n",
    "print(countList.describe())"
   ]
  },
  {
   "cell_type": "code",
   "execution_count": 37,
   "metadata": {},
   "outputs": [
    {
     "name": "stdout",
     "output_type": "stream",
     "text": [
      "i was wondering if you               302\n",
      "i am trying to find                  264\n",
      "i am looking for a                   253\n",
      "hello i am looking for               207\n",
      "hi i was wondering if                201\n",
      "hi i am looking for                  194\n",
      "i have a question about              182\n",
      "hello i was wondering if             176\n",
      "was wondering if you could           172\n",
      "hello i am trying to                 170\n",
      "i was wondering if you could         160\n",
      "hi i am trying to                    155\n",
      "hello i have a question              149\n",
      "hi i have a question                 141\n",
      "i m looking for a                    133\n",
      "i m trying to find                   132\n",
      "hi i m trying to                     125\n",
      "hi i m looking for                   114\n",
      "hi i was wondering if you            107\n",
      "i am looking for the                 104\n",
      "if you could help me                 103\n",
      "wondering if you could help          100\n",
      "was wondering if you could help       94\n",
      "i have a quick question               89\n",
      "i am looking for this                 88\n",
      "i am looking for a book               88\n",
      "i was wondering if you could help     88\n",
      "wondering if you could help me        88\n",
      "am looking for a book                 88\n",
      "is there a way to                     87\n",
      "dtype: int64\n",
      "\n",
      "count    32167.000000\n",
      "mean         3.130942\n",
      "std          5.923549\n",
      "min          2.000000\n",
      "25%          2.000000\n",
      "50%          2.000000\n",
      "75%          3.000000\n",
      "max        302.000000\n",
      "dtype: float64\n"
     ]
    }
   ],
   "source": [
    "counter = CountVectorizer(\n",
    "    token_pattern=r\"(?u)\\b\\w{1,}\\b\",\n",
    "    ngram_range=(5,10),\n",
    "#     max_df=0.5,\n",
    "    min_df=2\n",
    ")\n",
    "\n",
    "tfidfer = TfidfTransformer()\n",
    "\n",
    "cdf = counter.fit_transform(truncatedCorpus)\n",
    "cdf = pd.DataFrame(cdf.todense(), index=full.index, columns=counter.get_feature_names())\n",
    "# tdf = tfidfer.fit_transform(cdf)\n",
    "# tdf = pd.DataFrame(tdf.todense(), index=full.index, columns=counter.get_feature_names())\n",
    "\n",
    "countList = cdf.sum().sort_values(ascending=False)\n",
    "print(countList.head(30))\n",
    "print()\n",
    "print(countList.describe())"
   ]
  },
  {
   "cell_type": "code",
   "execution_count": 38,
   "metadata": {
    "scrolled": false
   },
   "outputs": [],
   "source": [
    "urls = []\n",
    "for i in corpus:\n",
    "    for k in re.findall(string=i, pattern=\"//\\S{10,600}/\"):\n",
    "        urls.append(k)\n",
    "urls = pd.Series(urls)\n",
    "\n",
    "truncURL = []\n",
    "\n",
    "for i in urls:\n",
    "    truncURL.append(i[2:40])\n",
    "    \n",
    "truncURL = pd.Series(truncURL,index=urls.index)"
   ]
  },
  {
   "cell_type": "code",
   "execution_count": 39,
   "metadata": {},
   "outputs": [
    {
     "data": {
      "text/plain": [
       "chat.downloads.s3-us-west-1.amazonaws.    154\n",
       "chat.downloads.s3.amazonaws.com/          107\n",
       "searchit.lib.ksu.edu/primo_library/lib     62\n",
       "search.proquest.com.er.lib.k-state.edu     45\n",
       "www.lib.k-state.edu/                       36\n",
       "guides.lib.k-state.edu/                    33\n",
       "www.sciencedirect.com/science/article/     31\n",
       "catalog.lib.ksu.edu/vwebv/                 24\n",
       "ksu-primo.hosted.exlibrisgroup.com:170     24\n",
       "k-state-primo.hosted.exlibrisgroup.com     23\n",
       "www.ncbi.nlm.nih.gov/pubmed/               17\n",
       "apps.lib.k-state.edu/databases/categor     14\n",
       "books.google.com/                          14\n",
       "www.sciencedirect.com.er.lib.k-state.e     11\n",
       "login.er.lib.k-state.edu/                  11\n",
       "www.google.com/                            11\n",
       "apps.lib.k-state.edu/databases/            11\n",
       "catalog2.lib.ksu.edu/vwebv/                10\n",
       "searchit.lib.ksu.edu/                      10\n",
       "onlinelibrary.wiley.com.er.lib.k-state      9\n",
       "dtype: int64"
      ]
     },
     "execution_count": 39,
     "metadata": {},
     "output_type": "execute_result"
    }
   ],
   "source": [
    "truncURL.value_counts().head(20)"
   ]
  },
  {
   "cell_type": "code",
   "execution_count": 40,
   "metadata": {},
   "outputs": [
    {
     "data": {
      "text/plain": [
       "LD2668 .D5      4\n",
       "HM22.F8         4\n",
       "LD2668 .R4      3\n",
       "ML3531 .G46     3\n",
       "HF5439.C6       2\n",
       "LB2341 .K63     2\n",
       "LC221.J33       2\n",
       "QL673 .H25      2\n",
       "T55 .A5         2\n",
       "QL463 .I65      2\n",
       "E184.P7         2\n",
       "F319.O7         2\n",
       "ML410.D99       2\n",
       "GV1796.H8       2\n",
       "HD9397.U54      2\n",
       "HN90.S6         2\n",
       "QL458 .I575     2\n",
       "BR517.H37       2\n",
       "PS3554.E4425    2\n",
       "LD2668.D5       2\n",
       "dtype: int64"
      ]
     },
     "execution_count": 40,
     "metadata": {},
     "output_type": "execute_result"
    }
   ],
   "source": [
    "calls = []\n",
    "for i in corpus:\n",
    "    for k in re.findall(string=i, pattern=\"[a-z]{1,2}\\d{2,4}\\s{0,1}\\.[a-z]\\d{1,}\", flags=re.IGNORECASE):\n",
    "        calls.append(k)\n",
    "calls = pd.Series(calls)\n",
    "\n",
    "calls.value_counts().head(20)"
   ]
  },
  {
   "cell_type": "code",
   "execution_count": 41,
   "metadata": {},
   "outputs": [
    {
     "data": {
      "text/plain": [
       "LD2668 .D5      4\n",
       "HM22.F8         4\n",
       "LD2668 .R4      3\n",
       "ML3531 .G46     3\n",
       "HF5439.C6       2\n",
       "LB2341 .K63     2\n",
       "LC221.J33       2\n",
       "QL673 .H25      2\n",
       "T55 .A5         2\n",
       "QL463 .I65      2\n",
       "E184.P7         2\n",
       "F319.O7         2\n",
       "ML410.D99       2\n",
       "GV1796.H8       2\n",
       "HD9397.U54      2\n",
       "HN90.S6         2\n",
       "QL458 .I575     2\n",
       "BR517.H37       2\n",
       "PS3554.E4425    2\n",
       "LD2668.D5       2\n",
       "dtype: int64"
      ]
     },
     "execution_count": 41,
     "metadata": {},
     "output_type": "execute_result"
    }
   ],
   "source": [
    "calls.value_counts().head(20)"
   ]
  },
  {
   "cell_type": "code",
   "execution_count": null,
   "metadata": {},
   "outputs": [],
   "source": []
  },
  {
   "cell_type": "code",
   "execution_count": 42,
   "metadata": {},
   "outputs": [],
   "source": [
    "n =[]\n",
    "for i in truncatedCorpus.index:\n",
    "    if re.search(string=truncatedCorpus[i],pattern=\"//\\S{10,600}/\"):\n",
    "        n.append(i)"
   ]
  },
  {
   "cell_type": "code",
   "execution_count": 43,
   "metadata": {},
   "outputs": [
    {
     "data": {
      "text/plain": [
       "[10023,\n",
       " 10181,\n",
       " 10206,\n",
       " 10248,\n",
       " 10264,\n",
       " 10367,\n",
       " 10377,\n",
       " 104,\n",
       " 10408,\n",
       " 10417,\n",
       " 10567,\n",
       " 10588,\n",
       " 10617,\n",
       " 10848,\n",
       " 10992,\n",
       " 11005,\n",
       " 11007,\n",
       " 11293,\n",
       " 11327,\n",
       " 11387,\n",
       " 11392,\n",
       " 11393,\n",
       " 11494,\n",
       " 11526,\n",
       " 11602,\n",
       " 11643,\n",
       " 11699,\n",
       " 11708,\n",
       " 11721,\n",
       " 11722,\n",
       " 11817,\n",
       " 11822,\n",
       " 11922,\n",
       " 11970,\n",
       " 12099,\n",
       " 12108,\n",
       " 12118,\n",
       " 12121,\n",
       " 12137,\n",
       " 12226,\n",
       " 12246,\n",
       " 12284,\n",
       " 12403,\n",
       " 12404,\n",
       " 12430,\n",
       " 1247,\n",
       " 12615,\n",
       " 12616,\n",
       " 12633,\n",
       " 12643,\n",
       " 12698,\n",
       " 12755,\n",
       " 12927,\n",
       " 12999,\n",
       " 13050,\n",
       " 13117,\n",
       " 13336,\n",
       " 13343,\n",
       " 13348,\n",
       " 13423,\n",
       " 13529,\n",
       " 13567,\n",
       " 13651,\n",
       " 13688,\n",
       " 13730,\n",
       " 13731,\n",
       " 13734,\n",
       " 13744,\n",
       " 13752,\n",
       " 13753,\n",
       " 13771,\n",
       " 13784,\n",
       " 13803,\n",
       " 13829,\n",
       " 13843,\n",
       " 13871,\n",
       " 13872,\n",
       " 13948,\n",
       " 13987,\n",
       " 14009,\n",
       " 14021,\n",
       " 14070,\n",
       " 14178,\n",
       " 14342,\n",
       " 14354,\n",
       " 14393,\n",
       " 14410,\n",
       " 14465,\n",
       " 14652,\n",
       " 1472,\n",
       " 1486,\n",
       " 14961,\n",
       " 14980,\n",
       " 15043,\n",
       " 15046,\n",
       " 15068,\n",
       " 15107,\n",
       " 15176,\n",
       " 15202,\n",
       " 1522,\n",
       " 15280,\n",
       " 15295,\n",
       " 15383,\n",
       " 15400,\n",
       " 15415,\n",
       " 1543,\n",
       " 1544,\n",
       " 1550,\n",
       " 1552,\n",
       " 15548,\n",
       " 15610,\n",
       " 1584,\n",
       " 1723,\n",
       " 1773,\n",
       " 1791,\n",
       " 1792,\n",
       " 1804,\n",
       " 1811,\n",
       " 1819,\n",
       " 182,\n",
       " 1823,\n",
       " 1880,\n",
       " 1887,\n",
       " 1939,\n",
       " 2171,\n",
       " 2179,\n",
       " 2189,\n",
       " 2192,\n",
       " 2226,\n",
       " 2243,\n",
       " 235,\n",
       " 2369,\n",
       " 2503,\n",
       " 2539,\n",
       " 2540,\n",
       " 2621,\n",
       " 2649,\n",
       " 2683,\n",
       " 2692,\n",
       " 2722,\n",
       " 2727,\n",
       " 2774,\n",
       " 2782,\n",
       " 2790,\n",
       " 2798,\n",
       " 2826,\n",
       " 2885,\n",
       " 2890,\n",
       " 2953,\n",
       " 2959,\n",
       " 3011,\n",
       " 3040,\n",
       " 3075,\n",
       " 3079,\n",
       " 3088,\n",
       " 3203,\n",
       " 3242,\n",
       " 3403,\n",
       " 3408,\n",
       " 3679,\n",
       " 3682,\n",
       " 3693,\n",
       " 3703,\n",
       " 3704,\n",
       " 3891,\n",
       " 3962,\n",
       " 4012,\n",
       " 4064,\n",
       " 409,\n",
       " 4096,\n",
       " 4131,\n",
       " 4265,\n",
       " 4293,\n",
       " 4407,\n",
       " 4422,\n",
       " 4437,\n",
       " 4495,\n",
       " 4500,\n",
       " 4509,\n",
       " 4511,\n",
       " 4555,\n",
       " 4558,\n",
       " 4564,\n",
       " 4573,\n",
       " 46,\n",
       " 4619,\n",
       " 4643,\n",
       " 4669,\n",
       " 4810,\n",
       " 4830,\n",
       " 4858,\n",
       " 4884,\n",
       " 4985,\n",
       " 5002,\n",
       " 5080,\n",
       " 5122,\n",
       " 5294,\n",
       " 5296,\n",
       " 5331,\n",
       " 5420,\n",
       " 5435,\n",
       " 5458,\n",
       " 5479,\n",
       " 5846,\n",
       " 5967,\n",
       " 5978,\n",
       " 6138,\n",
       " 6163,\n",
       " 6274,\n",
       " 6350,\n",
       " 637,\n",
       " 642,\n",
       " 6460,\n",
       " 6496,\n",
       " 653,\n",
       " 6583,\n",
       " 6618,\n",
       " 668,\n",
       " 671,\n",
       " 6782,\n",
       " 6786,\n",
       " 6790,\n",
       " 6795,\n",
       " 7012,\n",
       " 709,\n",
       " 7107,\n",
       " 7153,\n",
       " 7168,\n",
       " 7225,\n",
       " 7227,\n",
       " 7229,\n",
       " 7310,\n",
       " 7311,\n",
       " 7322,\n",
       " 7340,\n",
       " 7370,\n",
       " 7416,\n",
       " 744,\n",
       " 7526,\n",
       " 7527,\n",
       " 7539,\n",
       " 7540,\n",
       " 7561,\n",
       " 7715,\n",
       " 7724,\n",
       " 7737,\n",
       " 7800,\n",
       " 7808,\n",
       " 7857,\n",
       " 7920,\n",
       " 7928,\n",
       " 7931,\n",
       " 802,\n",
       " 803,\n",
       " 8058,\n",
       " 8098,\n",
       " 814,\n",
       " 8179,\n",
       " 8183,\n",
       " 8257,\n",
       " 8260,\n",
       " 8392,\n",
       " 8403,\n",
       " 8427,\n",
       " 8479,\n",
       " 8548,\n",
       " 8588,\n",
       " 8603,\n",
       " 8634,\n",
       " 8705,\n",
       " 8711,\n",
       " 8721,\n",
       " 8730,\n",
       " 8801,\n",
       " 8811,\n",
       " 8813,\n",
       " 8839,\n",
       " 8847,\n",
       " 8887,\n",
       " 8925,\n",
       " 9063,\n",
       " 9073,\n",
       " 9129,\n",
       " 9156,\n",
       " 9196,\n",
       " 9222,\n",
       " 9225,\n",
       " 9257,\n",
       " 9300,\n",
       " 9435,\n",
       " 9554,\n",
       " 9571,\n",
       " 9612,\n",
       " 9631,\n",
       " 964,\n",
       " 9778,\n",
       " 9826,\n",
       " 9860,\n",
       " 988,\n",
       " 998,\n",
       " 9980,\n",
       " 9986]"
      ]
     },
     "execution_count": 43,
     "metadata": {},
     "output_type": "execute_result"
    }
   ],
   "source": [
    "n"
   ]
  },
  {
   "cell_type": "code",
   "execution_count": 44,
   "metadata": {},
   "outputs": [],
   "source": [
    "urlCorpus = truncatedCorpus.loc[n].copy()"
   ]
  },
  {
   "cell_type": "code",
   "execution_count": 45,
   "metadata": {
    "scrolled": true
   },
   "outputs": [
    {
     "data": {
      "text/plain": [
       "10023    Hello I'm looking for a book download from htt...\n",
       "10181    hello I'm looking for this http://dl.acm.org/c...\n",
       "10206    Good Morning I'm looking fr a book but cant fi...\n",
       "10248    Hello. I have a question about what type of re...\n",
       "10264    I'm seeking this book through interlibrary loa...\n",
       "10367    hi Im trying to get this article http://getit....\n",
       "10377    I'm trying to look at an article on a datebase...\n",
       "104      hi. I'm working on a reference and cannot find...\n",
       "10408    Hello! I'm wanting to check out the Godfather ...\n",
       "10417    Hi I'm wondering how can I complete ISIS gradu...\n",
       "10567    Is ESG research data available through K-State...\n",
       "10588    is http://well.blogs.nytimes.com/ a reputable ...\n",
       "10617    Hi, Is it possible to check out the following ...\n",
       "10848    hey is there a way i can access this IEEE Xplo...\n",
       "10992    Is this a scholarly source? I'm not quite sure...\n",
       "11005    https://www.ncbi.nlm.nih.gov/pmc/articles/PMC3...\n",
       "11007    Is this full text not available? https://searc...\n",
       "11293    This book is indicated as being available onli...\n",
       "11327    You have W-chat？ Yes My no. is 8618718561065 h...\n",
       "11387    i http://www.sciencedirect.com/science/article...\n",
       "11392    would it be possible to access this document?h...\n",
       "11393    a friend just sent me a link to the power poin...\n",
       "11494    Hi! Could you please help me find this article...\n",
       "11526    hi https://search-proquest-com.er.lib.k-state....\n",
       "11602    Hi, good morning im looking for this book http...\n",
       "11643    hi http://searchit.lib.ksu.edu/primo_library/l...\n",
       "11699    ImFine Homebuilding 236 pp. 40-46 May 16, 2013...\n",
       "11708    Good morning! Any chance you can help me find ...\n",
       "11721    http://www.sciencedirect.com.er.lib.k-state.ed...\n",
       "11722    Hello, good morning I am looking for this book...\n",
       "                               ...                        \n",
       "8730     Hello I need help with APA style for a citatio...\n",
       "8801     Hello I need this artical Design of Human-Cent...\n",
       "8811     I need this book, but can't find it if I searc...\n",
       "8813     hi Isn't the following book available in hale ...\n",
       "8839     Hi, please help me I need to cite the document...\n",
       "8847     hi i need to download this paper http://link.s...\n",
       "8887     Hi download from http://chat.downloads.s3.amaz...\n",
       "8925     hi I need to get this article http://www.ncbi....\n",
       "9063     Hi there, I need help in citing this book. My ...\n",
       "9073     I think we have a subscription to Cabell's (ht...\n",
       "9129     hello I want to download one thesis Developmen...\n",
       "9156     hi! http://apps.webofknowledge.com/full_record...\n",
       "9196     Hi! I wanted to inquire if K-State's library h...\n",
       "9222     Hi I was accessing a link in lib.ksu.edu https...\n",
       "9225     hi sorry I lost the connection I was asking ab...\n",
       "9257     Good morning I was hoping you could help me fi...\n",
       "9300     Hello I was needing help finding some census i...\n",
       "9435     Hi, I was wondering if there is any possible w...\n",
       "9554     Hi. I was wondering what years you have of Var...\n",
       "9571     Hello! I was wondering, how much is the pay ra...\n",
       "9612     hello I would like to check out this book http...\n",
       "9631     I would like to know how to cite the following...\n",
       "964      Hi, I am looking for this article. Could you h...\n",
       "9778     Quick Question! If I searched something and it...\n",
       "9826     I want this, how do I get it? did you get the ...\n",
       "9860     hello I had a question about getting studies f...\n",
       "988      Hi. On K-State Get It, there is a bad link or ...\n",
       "998      Is this only available through interlibrary lo...\n",
       "9980     im having trouble viewing an online article ht...\n",
       "9986     hi, good morning i'm here at library right now...\n",
       "Length: 302, dtype: object"
      ]
     },
     "execution_count": 45,
     "metadata": {},
     "output_type": "execute_result"
    }
   ],
   "source": [
    "urlCorpus"
   ]
  },
  {
   "cell_type": "code",
   "execution_count": 46,
   "metadata": {},
   "outputs": [],
   "source": [
    "# def whiteSpaceTokens(s):\n",
    "#     return s.split(\"\\s\")"
   ]
  },
  {
   "cell_type": "code",
   "execution_count": 47,
   "metadata": {},
   "outputs": [
    {
     "name": "stdout",
     "output_type": "stream",
     "text": [
      "i          18756\n",
      "the         9960\n",
      "a           9257\n",
      "to          8504\n",
      "for         5332\n",
      "hi          5075\n",
      "you         5022\n",
      "and         4410\n",
      "is          4314\n",
      "am          4164\n",
      "hello       3838\n",
      "in          3747\n",
      "have        3599\n",
      "of          3576\n",
      "it          3313\n",
      "on          3026\n",
      "can         2996\n",
      "do          2595\n",
      "that        2377\n",
      "book        2302\n",
      "m           2255\n",
      "if          2234\n",
      "find        2223\n",
      "library     2179\n",
      "how         2113\n",
      "there       2099\n",
      "my          2087\n",
      "was         1854\n",
      "looking     1838\n",
      "an          1825\n",
      "dtype: int64\n",
      "\n",
      "count    15347.000000\n",
      "mean        19.222780\n",
      "std        249.354261\n",
      "min          1.000000\n",
      "25%          1.000000\n",
      "50%          1.000000\n",
      "75%          3.000000\n",
      "max      18756.000000\n",
      "dtype: float64\n"
     ]
    }
   ],
   "source": [
    "counter = CountVectorizer(\n",
    "    token_pattern=r\"(?u)\\b\\w{1,}\\b\",\n",
    "#     ngram_range=(5,10),\n",
    "#     max_df=0.5,\n",
    "#     min_df=2\n",
    ")\n",
    "\n",
    "tfidfer = TfidfTransformer()\n",
    "\n",
    "cdf = counter.fit_transform(truncatedCorpus)\n",
    "cdf = pd.DataFrame(cdf.todense(), index=truncatedCorpus.index, columns=counter.get_feature_names())\n",
    "# tdf = tfidfer.fit_transform(cdf)\n",
    "# tdf = pd.DataFrame(tdf.todense(), index=full.index, columns=counter.get_feature_names())\n",
    "\n",
    "countList = cdf.sum().sort_values(ascending=False)\n",
    "print(countList.head(30))\n",
    "print()\n",
    "print(countList.describe())"
   ]
  },
  {
   "cell_type": "code",
   "execution_count": null,
   "metadata": {},
   "outputs": [],
   "source": []
  },
  {
   "cell_type": "code",
   "execution_count": null,
   "metadata": {},
   "outputs": [],
   "source": []
  },
  {
   "cell_type": "code",
   "execution_count": null,
   "metadata": {},
   "outputs": [],
   "source": []
  },
  {
   "cell_type": "code",
   "execution_count": 48,
   "metadata": {
    "scrolled": false
   },
   "outputs": [
    {
     "name": "stdout",
     "output_type": "stream",
     "text": [
      "37\n",
      "udent. She has borrowed a book from the vet med library and wondered if she can return \n",
      "is one too i did long back how about in vet med library Oh..okay Is it possible to get \n",
      "Can anyone check out books from the vet med library? Hello Perfect! Thanks! Thanks \n",
      " can regular students borrow books from vet med? How long do they have with it? thanks \n",
      "cs for veterinary and animal science in Vet Medical Library Ok Thanks very much \n",
      " for me to lend that book directly from vet med library perfect. yes thats what I wante\n",
      "e at Hale lib, but i want it to ship to vet med lib whether can i do that. yes http://s\n",
      "nd I would like to reserve a room for a vet med study session, either 301 or 401? for t\n",
      "e can I find the KSU and KSU College of Vet Med logs for a poster presentation? I could\n",
      "Perhaps I am the only one interested in vet med occ safety and ag safety? thanks for yo\n",
      "Hi, this is Gayle from the vet med library. Who is the person at Hale who \n",
      " not have that but I do have a staff ID vet med thanks \n",
      "there is a book I'm needing over at the Vet Med library. Are titles there accessible to\n",
      " non-vet med faculty? no problem! How Learning Works\n",
      "oks like there are copies at Salina and Vet Med That's ok... I'm fine hiking over to Ve\n",
      "estrictions on who could check out from Vet Med. great! Thanks for your help! \n",
      "ct adulteration of foods and drugs  The Vet Med Library It takes me to the log in page,\n",
      "an Journal of Pathology is available in vet med library Thats great Thanks much that is\n",
      "Hello! I work at the Vet Med library and need to speak with someone \n",
      "Hi! I was wondering if the vet med library in Trotter Hall had a printer? \n",
      "Hi, I checked out a book from the Vet Med library. Can I return it to Hale? Okay,\n",
      "nd I would like to check them out (2 at vet med) and get 1 of them sent to vetmed Yes! \n",
      " hold for both volumes and selected the Vet Med library as the library of choice Ok, so\n",
      "w and just joint KSU Okay, I will go to Vet Med lib to get this book Thank you \n",
      "edirected to ksu libraries, not sure if vet med has the 54 volume or if I need to reque\n",
      "ployee at K State. I work facilities at Vet Med. Am I allowed to use the library? Check\n",
      "y that there are more? Can I access the vet med library? Okay, we will head over there.\n",
      "great ok do you think it's available in vet med library ok will do thanks that would be\n",
      "look? Oh ok, looks like some are at the vet med library actually! Thank you very much  \n",
      "osis in weaned pigs I need to go to the Vet med library ? yes , I am a vet med student \n",
      " edition book? I am staff at College of Vet Medicine. I need to read this book. OK. Gre\n",
      " I'd like to return, but it is from the Vet Med library. I just called out there and no\n",
      "en? Do I need to return the book to the Vet Med library? Ok, I'll do that then. Accordi\n",
      "Hi. I requested a book be sent to the Vet Med Lib. They sent me an email saying they \n",
      "nk... yes I'm using the KSU internet in Vet Med Yes, I've tried several times, and I'm \n",
      "iginally from Hale but was then sent to vet med library for pick up. I believe I need t\n",
      "go. ok good lol I picked it up from the vet med building if that makes a difference The\n"
     ]
    }
   ],
   "source": [
    "target = \".{,40}vet med.{,40}\"\n",
    "\n",
    "keyword = []\n",
    "for i in corpus:\n",
    "    for k in re.findall(string=i, pattern=target, flags=re.IGNORECASE):\n",
    "        keyword.append(k)\n",
    "keyword = pd.Series(keyword)\n",
    "\n",
    "print(len(keyword))\n",
    "for i in keyword[:50]:\n",
    "    print(i)"
   ]
  },
  {
   "cell_type": "code",
   "execution_count": 49,
   "metadata": {
    "scrolled": false
   },
   "outputs": [
    {
     "name": "stdout",
     "output_type": "stream",
     "text": [
      "2383\n",
      "ed in accessing the full-text articles of the Journal of green buil\n",
      "helo  im look for articles published in the Journal of \n",
      "i'm i need to look at journal articles i cant\n",
      "'m having a hard time finding articles that I want! I'm researching\n",
      " I'm looking at the following article Journal of rheology volume54 \n",
      "u I'm looking for 3 different articles, but it seems like I\n",
      "'m looking for a 19th century article about women fashion in France\n",
      "paper. I am trying to find an article that talks about Olympic Stad\n",
      "I finally found and article about grad school that I coul\n",
      "hi im looking for a journal article Climate change and coastal aq\n",
      "I'm looking for a journal article but haven't found it in any o\n",
      "ers. I have a project to find articles about nonnutritive sucking\n",
      "Im looking for a journal article that dicusses classroom asses\n",
      "I'm looking for a newspaper article called Magic of filmi music b\n",
      " I'm looking for a particular article that the catalog says is avai\n",
      " Aflatoxins Review or journal article on it Growing conditions\n",
      "'m looking for access to this article, but can't find it anywhere. \n",
      "ed me off. I'm looking for an article about hotels using wristbands\n",
      "g for a very specific type of article. I'm currently student teachi\n",
      "I'm looking for an article and we were just given the au\n",
      "on for you I'm looking for an article but I only have the name of t\n",
      "commended to find a scholarly article that I\n",
      "im looking for an article for a school project and i'm \n",
      "Hi! I'm looking for an article in the databases. I usually u\n",
      "I'm looking for an article in the International Journal \n",
      "I'm looking for an article in the Journal of Food Scienc\n",
      "Hi. I'm looking for an article that covers \"workplace in the\n",
      "Im looking for an article that covers race, economics, \n",
      "Hi, I'm looking for an article that doesn't appear to be ava\n",
      "Hi, I'm looking for an article that examines a pharmacologic\n",
      "I'm looking for an article that used to be on the Commun\n",
      "how do I search for journal articles on personality disorders and\n",
      "I'm looking for an article that's not available through \n",
      "HI Im looking for an article to gain a practical understan\n",
      "hi there I'm looking for an article, but I'm having trouble pulli\n",
      "i, I'm looking for an journal article about the treatment for Gende\n",
      "I'm looking for articles on how professional developm\n",
      "opment. However, a lot of the articles I\n",
      "Hi! I'm looking for articles on Muriel Rukeyser's poem \"B\n",
      "Who can assist in finding articles? great I'm having the bigges\n",
      "t difficulty finding any article Im looking for case worker\n",
      "ch. I'm looking for scholarly articles having to do with the Tempes\n",
      "Hi! Im looking for journal articles that have used focus groups \n",
      "Hi! I am looking for articles about how dietary Saturated \n",
      "I'm looking for magazine articles on home and garden. Which da\n",
      "I'm looking for peer reviewed articles on feeding GMO (GE) crops to\n",
      " livestock. I've found a few articles but others\n",
      "ientific journals or research articles that refer to or describe im\n",
      "Im looking for the following article: Science. 1988 Jan 29;239(483\n",
      "ing for the full text of this article... Fruit Juice and Change in \n"
     ]
    }
   ],
   "source": [
    "target = \".{,30}article.{,30}\"\n",
    "\n",
    "keyword = []\n",
    "for i in truncatedCorpus:\n",
    "    for k in re.findall(string=i, pattern=target, flags=re.IGNORECASE):\n",
    "        keyword.append(k)\n",
    "keyword = pd.Series(keyword)\n",
    "\n",
    "print(len(keyword))\n",
    "for i in keyword[:50]:\n",
    "    print(i)"
   ]
  },
  {
   "cell_type": "code",
   "execution_count": 67,
   "metadata": {},
   "outputs": [
    {
     "name": "stdout",
     "output_type": "stream",
     "text": [
      "493\n",
      "hi i'm looking for the print copy of Marvelous Worlds: The Grimms' F\n",
      "as an alum and I am able to utilize the printing services at the library? yes its not\n",
      "Hi, I'd like to know if you have a printed copy of \"U.S News & World Report\" mag\n",
      "okay-- no problem! I'm looking to get a printable version of\n",
      "Hi, I'm on the first floor trying to print and an error message saying something i\n",
      "was wondering where i get the copies in print? ya, the ones that aren't\n",
      "n anyway in the library or on campus to print of on colored paper? Even if i\n",
      "hello! is it possible to connect to the printer through wireless? great! yes thanks! \n",
      "Hello Is it possible to print in color at Hale? okay thank you! that \n",
      "is it possible to print of a colored report in the library? wit\n",
      "h a color printer? sweet! Thank you! \n",
      "Is it possible to pull the printed materials published at kstate that co\n",
      "Is the black and white printer inkjet or laser? oh, yes great! thank\n",
      "Is the color printer working Last night it was down  Okay \n",
      "alary book was available in the past in print form. IS it now available electronicall\n",
      "biology and I have a question regarding printing is there a\n",
      "is there a color printer in the library available to students?\n",
      "is there a color printer in the library? sweet thanks \n",
      "hi is there a color printer on 3rd floor thanks \n",
      "Is there a color printer somewhere in Hale? If so, what the ho\n",
      "urs for that printer? Thanks! Alright, thanks! Thanks!\n",
      "ampus that does lenticular drawings and printing\n",
      "is there a printer on the first floor? so when I print f\n",
      "is there printing on the bottom floor okay thanks \n",
      "Is there a printer on the third floor sorry i pritned fr\n",
      "Is there a printing station on the third floor oh, ok th\n",
      "Is there a way to do a photo print in the library? thank you thanks  \n",
      "is there a way to print if you do not have your student ID with\n",
      "Is there a way to print pictures on picture type paper at the l\n",
      "hi Is there a way to send print to hale library printer directly from y\n",
      "Is there any color printing in the library? for students if we u\n",
      "hi, is there any printer at fourth floor? okay, thank you \n",
      "any way to connect my own laptop to the printer in the library? Not really. Thank you\n",
      " anyway to get mircofilm transcribed or printed? Awesome, is there a charge for that?\n",
      "e anywhere in the library to do colored printing? Okay, do you happen to know what ro\n",
      "Is there colored printing within the library? Yes! Where is th\n",
      "Is there free printing in the library? \n",
      "Hi there, is there printers on all floors of Hale? Okay thank yo\n",
      "Is there something wrong with the printing network? I keep trying to print a re\n",
      "How do I print on the libraries desktop mac I printed \n",
      "et someone know that the stapler at the print station is out west printer on\n",
      " graduate study room. what if i want to print something> should i\n",
      "m trying to set up laptop to be able to print at Hale but the option I am\n",
      "u know both staplers at the first floor printer are out of staples Thanks so much \n",
      "oking for a journal paper- Do we have a print copy of it in the library?\n",
      "lp me locate this article so that I can print it? Thank you. Title: The effect of cha\n",
      "oint arithmetic of Muller Do you have a printed version? Thank you\n",
      "Can a personal laptop connect to the printers in the library? Well Im at home, can\n",
      "cle online and I want to pull it up and print it using\n",
      "ce/book/9780124809024 im ok with either printed book or pdf but i don't\n"
     ]
    }
   ],
   "source": [
    "target = \".{,40}print.{,40}\"\n",
    "\n",
    "keyword = []\n",
    "for i in truncatedCorpus:\n",
    "    for k in re.findall(string=i, pattern=target, flags=re.IGNORECASE):\n",
    "        keyword.append(k)\n",
    "keyword = pd.Series(keyword)\n",
    "\n",
    "print(len(keyword))\n",
    "for i in keyword[:50]:\n",
    "    print(i)"
   ]
  },
  {
   "cell_type": "code",
   "execution_count": 50,
   "metadata": {},
   "outputs": [
    {
     "name": "stdout",
     "output_type": "stream",
     "text": [
      " am  trying  to               226\n",
      " am  looking  for             217\n",
      " i  am  trying                177\n",
      " i  am  trying  to            175\n",
      " i  am  looking               175\n",
      " trying  to  find             172\n",
      " i  am  looking  for          163\n",
      " for  an  article             128\n",
      " you  help  me                108\n",
      " find  an  article            104\n",
      " am  trying  to  find         101\n",
      " i  need  to                   97\n",
      " looking  for  an              96\n",
      " help  me  find                95\n",
      " i  trying  to                 91\n",
      " looking  for  an  article     90\n",
      " a  journal  article           87\n",
      " can  you  help                86\n",
      " an  article  that             83\n",
      " i  am  trying  to  find       82\n",
      " to  find  a                   80\n",
      " i  was  wondering             79\n",
      " to  find  an                  78\n",
      " i  have  a                    77\n",
      " was  wondering  if            76\n",
      " trying  to  access            74\n",
      " to  find  an  article         69\n",
      " an  article  from             67\n",
      " have  a  question             64\n",
      " i  looking  for               64\n",
      "dtype: int64\n",
      "\n",
      "count    9013.000000\n",
      "mean        4.077444\n",
      "std         8.199709\n",
      "min         2.000000\n",
      "25%         2.000000\n",
      "50%         2.000000\n",
      "75%         3.000000\n",
      "max       226.000000\n",
      "dtype: float64\n"
     ]
    }
   ],
   "source": [
    "n =[]\n",
    "for i in truncatedCorpus.index:\n",
    "    if re.search(string=truncatedCorpus[i],pattern=\"article\"):\n",
    "        n.append(i)\n",
    "        \n",
    "articleCorpus = truncatedCorpus.loc[n].copy()\n",
    "\n",
    "counter = CountVectorizer(\n",
    "    token_pattern=r\"(?u)\\s\\w{1,}\",\n",
    "    ngram_range=(3,10),\n",
    "#     max_df=0.5,\n",
    "    min_df=2\n",
    ")\n",
    "\n",
    "tfidfer = TfidfTransformer()\n",
    "\n",
    "cdf = counter.fit_transform(articleCorpus)\n",
    "cdf = pd.DataFrame(cdf.todense(), index=articleCorpus.index, columns=counter.get_feature_names())\n",
    "# tdf = tfidfer.fit_transform(cdf)\n",
    "# tdf = pd.DataFrame(tdf.todense(), index=full.index, columns=counter.get_feature_names())\n",
    "\n",
    "countList = cdf.sum().sort_values(ascending=False)\n",
    "print(countList.head(30))\n",
    "print()\n",
    "print(countList.describe())"
   ]
  },
  {
   "cell_type": "code",
   "execution_count": null,
   "metadata": {},
   "outputs": [],
   "source": []
  },
  {
   "cell_type": "code",
   "execution_count": 51,
   "metadata": {},
   "outputs": [
    {
     "name": "stdout",
     "output_type": "stream",
     "text": [
      " the  third  floor            93\n",
      " the  3rd  floor              79\n",
      " on  the  third               67\n",
      " on  the  third  floor        65\n",
      " the  4th  floor              55\n",
      " on  the  3rd                 55\n",
      " on  the  3rd  floor          54\n",
      " there  is  a                 39\n",
      " on  the  4th                 39\n",
      " on  the  4th  floor          39\n",
      " the  first  floor            36\n",
      " send  someone  up            32\n",
      " on  third  floor             30\n",
      " the  fourth  floor           30\n",
      " please  send  someone        28\n",
      " someone  up  to              26\n",
      " am  on  the                  26\n",
      " i  am  on                    25\n",
      " please  send  someone  up    24\n",
      " i  am  on  the               24\n",
      " send  someone  up  to        23\n",
      " on  the  fourth              21\n",
      " on  the  fourth  floor       21\n",
      " on  the  first               21\n",
      " on  the  first  floor        21\n",
      " to  third  floor             18\n",
      " the  second  floor           18\n",
      " on  3rd  floor               17\n",
      " floor  of  hale              17\n",
      " of  the  library             16\n",
      "dtype: int64\n",
      "\n",
      "count    2547.000000\n",
      "mean        3.133098\n",
      "std         4.456029\n",
      "min         2.000000\n",
      "25%         2.000000\n",
      "50%         2.000000\n",
      "75%         3.000000\n",
      "max        93.000000\n",
      "dtype: float64\n"
     ]
    }
   ],
   "source": [
    "n =[]\n",
    "for i in truncatedCorpus.index:\n",
    "    if re.search(string=truncatedCorpus[i],pattern=\"floor\"):\n",
    "        n.append(i)\n",
    "        \n",
    "articleCorpus = truncatedCorpus.loc[n].copy()\n",
    "\n",
    "counter = CountVectorizer(\n",
    "    token_pattern=r\"(?u)\\s\\w{1,}\",\n",
    "    ngram_range=(3,10),\n",
    "#     max_df=0.5,\n",
    "    min_df=2\n",
    ")\n",
    "\n",
    "tfidfer = TfidfTransformer()\n",
    "\n",
    "cdf = counter.fit_transform(articleCorpus)\n",
    "cdf = pd.DataFrame(cdf.todense(), index=articleCorpus.index, columns=counter.get_feature_names())\n",
    "# tdf = tfidfer.fit_transform(cdf)\n",
    "# tdf = pd.DataFrame(tdf.todense(), index=full.index, columns=counter.get_feature_names())\n",
    "\n",
    "countList = cdf.sum().sort_values(ascending=False)\n",
    "print(countList.head(30))\n",
    "print()\n",
    "print(countList.describe())"
   ]
  },
  {
   "cell_type": "code",
   "execution_count": null,
   "metadata": {},
   "outputs": [],
   "source": []
  },
  {
   "cell_type": "code",
   "execution_count": 52,
   "metadata": {},
   "outputs": [
    {
     "name": "stdout",
     "output_type": "stream",
     "text": [
      " am  looking  for             253\n",
      " looking  for  a              240\n",
      " for  a  book                 227\n",
      " i  am  looking               224\n",
      " i  am  looking  for          208\n",
      " was  wondering  if           195\n",
      " i  was  wondering            181\n",
      " looking  for  a  book        171\n",
      " i  was  wondering  if        155\n",
      " i  have  a                   121\n",
      " am  looking  for  a          121\n",
      " i  looking  for              119\n",
      " wondering  if  you           117\n",
      " i  am  looking  for  a       103\n",
      " am  trying  to               103\n",
      " was  wondering  if  you      100\n",
      " do  you  have                100\n",
      " a  book  i                    97\n",
      " find  a  book                 96\n",
      " a  book  that                 95\n",
      " to  check  out                93\n",
      " i  want  to                   92\n",
      " if  you  have                 90\n",
      " am  looking  for  a  book     88\n",
      " in  the  library              86\n",
      " out  a  book                  84\n",
      " i  am  trying  to             82\n",
      " i  am  trying                 82\n",
      " i  need  to                   80\n",
      " to  find  a                   79\n",
      "dtype: int64\n",
      "\n",
      "count    11629.000000\n",
      "mean         4.015737\n",
      "std          8.581276\n",
      "min          2.000000\n",
      "25%          2.000000\n",
      "50%          2.000000\n",
      "75%          3.000000\n",
      "max        253.000000\n",
      "dtype: float64\n"
     ]
    }
   ],
   "source": [
    "n =[]\n",
    "for i in truncatedCorpus.index:\n",
    "    if re.search(string=truncatedCorpus[i],pattern=\"book\"):\n",
    "        n.append(i)\n",
    "        \n",
    "articleCorpus = truncatedCorpus.loc[n].copy()\n",
    "\n",
    "counter = CountVectorizer(\n",
    "    token_pattern=r\"(?u)\\s\\w{1,}\",\n",
    "    ngram_range=(3,10),\n",
    "#     max_df=0.5,\n",
    "    min_df=2\n",
    ")\n",
    "\n",
    "tfidfer = TfidfTransformer()\n",
    "\n",
    "cdf = counter.fit_transform(articleCorpus)\n",
    "cdf = pd.DataFrame(cdf.todense(), index=articleCorpus.index, columns=counter.get_feature_names())\n",
    "# tdf = tfidfer.fit_transform(cdf)\n",
    "# tdf = pd.DataFrame(tdf.todense(), index=full.index, columns=counter.get_feature_names())\n",
    "\n",
    "countList = cdf.sum().sort_values(ascending=False)\n",
    "print(countList.head(30))\n",
    "print()\n",
    "print(countList.describe())"
   ]
  },
  {
   "cell_type": "code",
   "execution_count": 53,
   "metadata": {
    "scrolled": false
   },
   "outputs": [
    {
     "data": {
      "text/plain": [
       "0        Is \"An Unfinished Life by Robert Diek\" availab...\n",
       "1        Hi I'm confused with Search It I keep getting ...\n",
       "100      I am in the library and consistently having pr...\n",
       "1000     I want to find some chinese database, do we ha...\n",
       "10000    I'm interested in a book that says: In transit...\n",
       "10001    I'm interested in accessing the full-text arti...\n",
       "10002    hi there so I'm interested in getting a copy o...\n",
       "10003    Hi - I'm interested in recommending that a stu...\n",
       "10004    Hello there! I'm the library director at the x...\n",
       "10005    hi how are you im just bored, you wanna chat, ...\n",
       "10006    I'm just letting you all know there is a group...\n",
       "10007    Hi there, I'm just typing this to let you know...\n",
       "10008    helo  im look for articles published in the Jo...\n",
       "10009    hi there i'm looking at a specific research to...\n",
       "1001     Hi! I'm working on a research project and I'm ...\n",
       "10010    Im looking at applying for a part time job at ...\n",
       "10011    Hello I'm looking at the following article Jou...\n",
       "10012                                  Hey Within 2 weeks \n",
       "10013    Hi, I would like some help. I'm looking for \"t...\n",
       "10014    I'm looking for \"The Turing Omnibus\"    Sure Y...\n",
       "10015    Happy Monday! I'm looking for \"Work Release in...\n",
       "10016    Hi I'm looking for @MidnitLibrarian Is that a ...\n",
       "10017    I'm looking for 2 books. One is Go Mobile, whi...\n",
       "10018    I'm looking for 2 papers but the full texts ar...\n",
       "10019    Good morning I have a quick question for you I...\n",
       "1002     hello I'm looking for some research for my top...\n",
       "10020    I'm looking for a 19th century article about w...\n",
       "10021    I'm looking for a biography. Do ksu libraries ...\n",
       "10022    Hello Im looking for a book Ball Redbook: Gree...\n",
       "10023    Hello I'm looking for a book download from htt...\n",
       "                               ...                        \n",
       "997      I'm looking for research articles about how re...\n",
       "9970     Hi I'm having trouble finding imformation abou...\n",
       "9971     Hi I'm having trouble finding imformation abou...\n",
       "9972     I'm having trouble finding information on Prod...\n",
       "9973     I'm having trouble finding the full text of an...\n",
       "9974     Im having trouble finding the writing center p...\n",
       "9975     Hello I'm having trouble getting a dissertatio...\n",
       "9976     Could I speak to someone about reworks? I'm ha...\n",
       "9977     Hello I'm having trouble listening to music on...\n",
       "9978       thanks! hi! I'm having trouble locating scho...\n",
       "9979     I'm having trouble using the databases. I need...\n",
       "998      Is this only available through interlibrary lo...\n",
       "9980     im having trouble viewing an online article ht...\n",
       "9981     Hello! I'm having trouble viewing the article,...\n",
       "9983     I'm having troubler finding a document that sa...\n",
       "9984     I'm having troubles locating articles pertaini...\n",
       "9985     hi i'm sorry for interruption i'm a ksu studen...\n",
       "9986     hi, good morning i'm here at library right now...\n",
       "9987     Hello. I'm hoping you can help me figure out h...\n",
       "9988     I'm in Dr. Vicki Sherbert's EDCI 716 course an...\n",
       "9989     Hello I'm in ENGL 100, and I need to find sour...\n",
       "999       my name is nameredacted  I am working on find...\n",
       "9990     Im in expos 100 and im wirting about racial/et...\n",
       "9992     I'm in HN320 Prevention and care of athletic i...\n",
       "9993     Im in Mrs. Reekie Engl 415 class, and we have ...\n",
       "9994     Hello I'm in need of a list of resources for i...\n",
       "9995     Hi! I'm in Room 301 and the drawer for the key...\n",
       "9997     I'm in the library now by the maps. I want to ...\n",
       "9998     I'm in the stacks looking for a book called \"S...\n",
       "9999     I'm interested accessing the industry report:T...\n",
       "Length: 14604, dtype: object"
      ]
     },
     "execution_count": 53,
     "metadata": {},
     "output_type": "execute_result"
    }
   ],
   "source": [
    "truncatedCorpus"
   ]
  },
  {
   "cell_type": "code",
   "execution_count": 54,
   "metadata": {},
   "outputs": [],
   "source": [
    "count = CountVectorizer(\n",
    "    token_pattern=r\"(?u)\\b\\w{1,}\\b\",\n",
    ")"
   ]
  },
  {
   "cell_type": "code",
   "execution_count": 55,
   "metadata": {},
   "outputs": [],
   "source": [
    "countDF = pd.DataFrame(\n",
    "    count.fit_transform(truncatedCorpus).todense(),\n",
    "    index=truncatedCorpus.index,\n",
    "    columns=count.get_feature_names()\n",
    ")"
   ]
  },
  {
   "cell_type": "code",
   "execution_count": 56,
   "metadata": {},
   "outputs": [],
   "source": [
    "countList = countDF.sum().sort_values(ascending=False)"
   ]
  },
  {
   "cell_type": "code",
   "execution_count": 57,
   "metadata": {},
   "outputs": [
    {
     "data": {
      "text/plain": [
       "i        18756\n",
       "the       9960\n",
       "a         9257\n",
       "to        8504\n",
       "for       5332\n",
       "hi        5075\n",
       "you       5022\n",
       "and       4410\n",
       "is        4314\n",
       "am        4164\n",
       "hello     3838\n",
       "in        3747\n",
       "have      3599\n",
       "of        3576\n",
       "it        3313\n",
       "on        3026\n",
       "can       2996\n",
       "do        2595\n",
       "that      2377\n",
       "book      2302\n",
       "dtype: int64"
      ]
     },
     "execution_count": 57,
     "metadata": {},
     "output_type": "execute_result"
    }
   ],
   "source": [
    "countList[:20]"
   ]
  },
  {
   "cell_type": "code",
   "execution_count": 58,
   "metadata": {},
   "outputs": [],
   "source": [
    "count = TfidfVectorizer(\n",
    "    token_pattern=r\"(?u)\\b\\w{1,}\\b\",\n",
    ")"
   ]
  },
  {
   "cell_type": "code",
   "execution_count": 59,
   "metadata": {},
   "outputs": [],
   "source": [
    "countDF = pd.DataFrame(\n",
    "    count.fit_transform(truncatedCorpus).todense(),\n",
    "    index=truncatedCorpus.index,\n",
    "    columns=count.get_feature_names()\n",
    ")"
   ]
  },
  {
   "cell_type": "code",
   "execution_count": 60,
   "metadata": {},
   "outputs": [],
   "source": [
    "countList = countDF.sum().sort_values(ascending=False)"
   ]
  },
  {
   "cell_type": "code",
   "execution_count": 61,
   "metadata": {},
   "outputs": [
    {
     "data": {
      "text/plain": [
       "i        1105.334316\n",
       "the       778.476680\n",
       "a         763.928223\n",
       "to        720.517038\n",
       "you       542.965171\n",
       "for       530.922554\n",
       "hi        499.797325\n",
       "is        484.763353\n",
       "am        475.763902\n",
       "and       460.751314\n",
       "have      432.722247\n",
       "hello     431.196813\n",
       "in        425.448631\n",
       "it        419.292949\n",
       "of        400.472010\n",
       "can       383.206342\n",
       "on        375.737729\n",
       "do        352.029154\n",
       "that      331.178122\n",
       "if        327.336392\n",
       "dtype: float64"
      ]
     },
     "execution_count": 61,
     "metadata": {},
     "output_type": "execute_result"
    }
   ],
   "source": [
    "countList[:20]"
   ]
  },
  {
   "cell_type": "code",
   "execution_count": null,
   "metadata": {},
   "outputs": [],
   "source": []
  },
  {
   "cell_type": "code",
   "execution_count": 62,
   "metadata": {},
   "outputs": [],
   "source": [
    "count = CountVectorizer(\n",
    "    token_pattern=r\"(?u)\\b\\w{3,}\\b\",\n",
    "    min_df=2,\n",
    ")"
   ]
  },
  {
   "cell_type": "code",
   "execution_count": 63,
   "metadata": {},
   "outputs": [],
   "source": [
    "countDF = pd.DataFrame(\n",
    "    count.fit_transform(truncatedCorpus).todense(),\n",
    "    index=truncatedCorpus.index,\n",
    "    columns=count.get_feature_names()\n",
    ")"
   ]
  },
  {
   "cell_type": "code",
   "execution_count": 64,
   "metadata": {},
   "outputs": [],
   "source": [
    "countList = countDF.sum().sort_values(ascending=False)"
   ]
  },
  {
   "cell_type": "code",
   "execution_count": 65,
   "metadata": {},
   "outputs": [
    {
     "data": {
      "text/plain": [
       "the        9960\n",
       "for        5332\n",
       "you        5022\n",
       "and        4410\n",
       "hello      3838\n",
       "have       3599\n",
       "can        2996\n",
       "that       2377\n",
       "book       2302\n",
       "find       2223\n",
       "library    2179\n",
       "how        2113\n",
       "there      2099\n",
       "was        1854\n",
       "looking    1838\n",
       "this       1798\n",
       "help       1762\n",
       "article    1651\n",
       "thank      1516\n",
       "but        1483\n",
       "dtype: int64"
      ]
     },
     "execution_count": 65,
     "metadata": {},
     "output_type": "execute_result"
    }
   ],
   "source": [
    "countList[:20]"
   ]
  }
 ],
 "metadata": {
  "kernelspec": {
   "display_name": "Python 3",
   "language": "python",
   "name": "python3"
  },
  "language_info": {
   "codemirror_mode": {
    "name": "ipython",
    "version": 3
   },
   "file_extension": ".py",
   "mimetype": "text/x-python",
   "name": "python",
   "nbconvert_exporter": "python",
   "pygments_lexer": "ipython3",
   "version": "3.6.8"
  }
 },
 "nbformat": 4,
 "nbformat_minor": 2
}
